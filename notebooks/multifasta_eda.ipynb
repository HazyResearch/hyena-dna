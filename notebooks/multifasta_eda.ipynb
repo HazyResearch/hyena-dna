{
 "cells": [
  {
   "cell_type": "code",
   "execution_count": 1,
   "metadata": {},
   "outputs": [],
   "source": [
    "import polars as pl"
   ]
  },
  {
   "cell_type": "code",
   "execution_count": 2,
   "metadata": {},
   "outputs": [
    {
     "data": {
      "text/plain": [
       "polars.config.Config"
      ]
     },
     "execution_count": 2,
     "metadata": {},
     "output_type": "execute_result"
    }
   ],
   "source": [
    "pl.Config.set_fmt_str_lengths(100)"
   ]
  },
  {
   "cell_type": "code",
   "execution_count": 33,
   "metadata": {},
   "outputs": [
    {
     "data": {
      "text/html": [
       "<div><style>\n",
       ".dataframe > thead > tr,\n",
       ".dataframe > tbody > tr {\n",
       "  text-align: right;\n",
       "  white-space: pre-wrap;\n",
       "}\n",
       "</style>\n",
       "<small>shape: (5, 3)</small><table border=\"1\" class=\"dataframe\"><thead><tr><th>fasta</th><th>bed</th><th>species</th></tr><tr><td>str</td><td>str</td><td>str</td></tr></thead><tbody><tr><td>&quot;/iblm/netapp/data4/shared_dir/hyena_dna_collab/cactus_mutli_alignment/hal_centric_region_alloc/fast…</td><td>&quot;/iblm/netapp/data4/shared_dir/hyena_dna_collab/cactus_mutli_alignment/hal_centric_region_alloc/tile…</td><td>&quot;Acinonyx_jubatus&quot;</td></tr><tr><td>&quot;/iblm/netapp/data4/shared_dir/hyena_dna_collab/cactus_mutli_alignment/hal_centric_region_alloc/fast…</td><td>&quot;/iblm/netapp/data4/shared_dir/hyena_dna_collab/cactus_mutli_alignment/hal_centric_region_alloc/tile…</td><td>&quot;Acomys_cahirinus&quot;</td></tr><tr><td>&quot;/iblm/netapp/data4/shared_dir/hyena_dna_collab/cactus_mutli_alignment/hal_centric_region_alloc/fast…</td><td>&quot;/iblm/netapp/data4/shared_dir/hyena_dna_collab/cactus_mutli_alignment/hal_centric_region_alloc/tile…</td><td>&quot;Ailuropoda_melanoleuca&quot;</td></tr><tr><td>&quot;/iblm/netapp/data4/shared_dir/hyena_dna_collab/cactus_mutli_alignment/hal_centric_region_alloc/fast…</td><td>&quot;/iblm/netapp/data4/shared_dir/hyena_dna_collab/cactus_mutli_alignment/hal_centric_region_alloc/tile…</td><td>&quot;Ailurus_fulgens&quot;</td></tr><tr><td>&quot;/iblm/netapp/data4/shared_dir/hyena_dna_collab/cactus_mutli_alignment/hal_centric_region_alloc/fast…</td><td>&quot;/iblm/netapp/data4/shared_dir/hyena_dna_collab/cactus_mutli_alignment/hal_centric_region_alloc/tile…</td><td>&quot;Allactaga_bullata&quot;</td></tr></tbody></table></div>"
      ],
      "text/plain": [
       "shape: (5, 3)\n",
       "┌────────────────────────────────────┬────────────────────────────────────┬────────────────────────┐\n",
       "│ fasta                              ┆ bed                                ┆ species                │\n",
       "│ ---                                ┆ ---                                ┆ ---                    │\n",
       "│ str                                ┆ str                                ┆ str                    │\n",
       "╞════════════════════════════════════╪════════════════════════════════════╪════════════════════════╡\n",
       "│ /iblm/netapp/data4/shared_dir/hyen ┆ /iblm/netapp/data4/shared_dir/hyen ┆ Acinonyx_jubatus       │\n",
       "│ a_dna_collab/cactus_mutli_alignmen ┆ a_dna_collab/cactus_mutli_alignmen ┆                        │\n",
       "│ t/hal_centric_region_alloc/fasta…  ┆ t/hal_centric_region_alloc/tiled…  ┆                        │\n",
       "│ /iblm/netapp/data4/shared_dir/hyen ┆ /iblm/netapp/data4/shared_dir/hyen ┆ Acomys_cahirinus       │\n",
       "│ a_dna_collab/cactus_mutli_alignmen ┆ a_dna_collab/cactus_mutli_alignmen ┆                        │\n",
       "│ t/hal_centric_region_alloc/fasta…  ┆ t/hal_centric_region_alloc/tiled…  ┆                        │\n",
       "│ /iblm/netapp/data4/shared_dir/hyen ┆ /iblm/netapp/data4/shared_dir/hyen ┆ Ailuropoda_melanoleuca │\n",
       "│ a_dna_collab/cactus_mutli_alignmen ┆ a_dna_collab/cactus_mutli_alignmen ┆                        │\n",
       "│ t/hal_centric_region_alloc/fasta…  ┆ t/hal_centric_region_alloc/tiled…  ┆                        │\n",
       "│ /iblm/netapp/data4/shared_dir/hyen ┆ /iblm/netapp/data4/shared_dir/hyen ┆ Ailurus_fulgens        │\n",
       "│ a_dna_collab/cactus_mutli_alignmen ┆ a_dna_collab/cactus_mutli_alignmen ┆                        │\n",
       "│ t/hal_centric_region_alloc/fasta…  ┆ t/hal_centric_region_alloc/tiled…  ┆                        │\n",
       "│ /iblm/netapp/data4/shared_dir/hyen ┆ /iblm/netapp/data4/shared_dir/hyen ┆ Allactaga_bullata      │\n",
       "│ a_dna_collab/cactus_mutli_alignmen ┆ a_dna_collab/cactus_mutli_alignmen ┆                        │\n",
       "│ t/hal_centric_region_alloc/fasta…  ┆ t/hal_centric_region_alloc/tiled…  ┆                        │\n",
       "└────────────────────────────────────┴────────────────────────────────────┴────────────────────────┘"
      ]
     },
     "execution_count": 33,
     "metadata": {},
     "output_type": "execute_result"
    }
   ],
   "source": [
    "files = (\n",
    "    pl.read_csv('/iblm/netapp/home/dlaub/projects/hyena-dna/data/cactus_arrow_dataset_65536.txt', separator='\\t')\n",
    "    .with_columns(species=pl.col('fasta').str.split('/').list.get(-1).str.split('.').list.get(0))\n",
    ")\n",
    "files.head()"
   ]
  },
  {
   "cell_type": "code",
   "execution_count": 34,
   "metadata": {},
   "outputs": [
    {
     "data": {
      "text/plain": [
       "'/iblm/netapp/data4/shared_dir/hyena_dna_collab/cactus_mutli_alignment/hal_centric_region_alloc/fasta_files/Acinonyx_jubatus.fasta.gz'"
      ]
     },
     "execution_count": 34,
     "metadata": {},
     "output_type": "execute_result"
    }
   ],
   "source": [
    "files.row(0)[0]"
   ]
  },
  {
   "cell_type": "code",
   "execution_count": 35,
   "metadata": {},
   "outputs": [
    {
     "data": {
      "text/plain": [
       "447.0"
      ]
     },
     "execution_count": 35,
     "metadata": {},
     "output_type": "execute_result"
    }
   ],
   "source": [
    "1341 / 3"
   ]
  },
  {
   "cell_type": "code",
   "execution_count": 10,
   "metadata": {},
   "outputs": [],
   "source": [
    "beds = [pl.scan_ipc(b).with_columns(pl.lit(s).alias('species')) for _, b, s in files.iter_rows()]\n",
    "all_beds = pl.concat(beds).collect()"
   ]
  },
  {
   "cell_type": "code",
   "execution_count": 16,
   "metadata": {},
   "outputs": [
    {
     "data": {
      "text/html": [
       "<div><style>\n",
       ".dataframe > thead > tr,\n",
       ".dataframe > tbody > tr {\n",
       "  text-align: right;\n",
       "  white-space: pre-wrap;\n",
       "}\n",
       "</style>\n",
       "<small>shape: (5, 5)</small><table border=\"1\" class=\"dataframe\"><thead><tr><th>chrom</th><th>chromStart</th><th>chromEnd</th><th>name</th><th>species</th></tr><tr><td>str</td><td>i64</td><td>i64</td><td>str</td><td>str</td></tr></thead><tbody><tr><td>&quot;LLWD01000001.1&quot;</td><td>0</td><td>52415</td><td>&quot;train&quot;</td><td>&quot;Acinonyx_jubatus&quot;</td></tr><tr><td>&quot;LLWD01000002.1&quot;</td><td>0</td><td>65536</td><td>&quot;train&quot;</td><td>&quot;Acinonyx_jubatus&quot;</td></tr><tr><td>&quot;LLWD01000002.1&quot;</td><td>65536</td><td>131072</td><td>&quot;train&quot;</td><td>&quot;Acinonyx_jubatus&quot;</td></tr><tr><td>&quot;LLWD01000002.1&quot;</td><td>131072</td><td>196608</td><td>&quot;train&quot;</td><td>&quot;Acinonyx_jubatus&quot;</td></tr><tr><td>&quot;LLWD01000002.1&quot;</td><td>196608</td><td>262144</td><td>&quot;train&quot;</td><td>&quot;Acinonyx_jubatus&quot;</td></tr></tbody></table></div>"
      ],
      "text/plain": [
       "shape: (5, 5)\n",
       "┌────────────────┬────────────┬──────────┬───────┬──────────────────┐\n",
       "│ chrom          ┆ chromStart ┆ chromEnd ┆ name  ┆ species          │\n",
       "│ ---            ┆ ---        ┆ ---      ┆ ---   ┆ ---              │\n",
       "│ str            ┆ i64        ┆ i64      ┆ str   ┆ str              │\n",
       "╞════════════════╪════════════╪══════════╪═══════╪══════════════════╡\n",
       "│ LLWD01000001.1 ┆ 0          ┆ 52415    ┆ train ┆ Acinonyx_jubatus │\n",
       "│ LLWD01000002.1 ┆ 0          ┆ 65536    ┆ train ┆ Acinonyx_jubatus │\n",
       "│ LLWD01000002.1 ┆ 65536      ┆ 131072   ┆ train ┆ Acinonyx_jubatus │\n",
       "│ LLWD01000002.1 ┆ 131072     ┆ 196608   ┆ train ┆ Acinonyx_jubatus │\n",
       "│ LLWD01000002.1 ┆ 196608     ┆ 262144   ┆ train ┆ Acinonyx_jubatus │\n",
       "└────────────────┴────────────┴──────────┴───────┴──────────────────┘"
      ]
     },
     "execution_count": 16,
     "metadata": {},
     "output_type": "execute_result"
    }
   ],
   "source": [
    "all_beds.head()"
   ]
  },
  {
   "cell_type": "code",
   "execution_count": 13,
   "metadata": {},
   "outputs": [
    {
     "data": {
      "text/plain": [
       "171896964"
      ]
     },
     "execution_count": 13,
     "metadata": {},
     "output_type": "execute_result"
    }
   ],
   "source": [
    "all_beds.height"
   ]
  },
  {
   "cell_type": "code",
   "execution_count": 14,
   "metadata": {},
   "outputs": [
    {
     "data": {
      "text/plain": [
       "138441444"
      ]
     },
     "execution_count": 14,
     "metadata": {},
     "output_type": "execute_result"
    }
   ],
   "source": [
    "all_beds['chrom'].n_unique()"
   ]
  },
  {
   "cell_type": "code",
   "execution_count": 17,
   "metadata": {},
   "outputs": [],
   "source": [
    "by_c_s = all_beds.unique(['chrom', 'species'])"
   ]
  },
  {
   "cell_type": "code",
   "execution_count": 20,
   "metadata": {},
   "outputs": [
    {
     "data": {
      "text/plain": [
       "164218514"
      ]
     },
     "execution_count": 20,
     "metadata": {},
     "output_type": "execute_result"
    }
   ],
   "source": [
    "by_c_s.height"
   ]
  },
  {
   "cell_type": "code",
   "execution_count": 18,
   "metadata": {},
   "outputs": [
    {
     "data": {
      "text/html": [
       "<div><style>\n",
       ".dataframe > thead > tr,\n",
       ".dataframe > tbody > tr {\n",
       "  text-align: right;\n",
       "  white-space: pre-wrap;\n",
       "}\n",
       "</style>\n",
       "<small>shape: (5, 5)</small><table border=\"1\" class=\"dataframe\"><thead><tr><th>chrom</th><th>chromStart</th><th>chromEnd</th><th>name</th><th>species</th></tr><tr><td>str</td><td>i64</td><td>i64</td><td>str</td><td>str</td></tr></thead><tbody><tr><td>&quot;k141_100819&quot;</td><td>0</td><td>28984</td><td>&quot;valid&quot;</td><td>&quot;Allenopithecus_nigroviridis&quot;</td></tr><tr><td>&quot;k141_1012738&quot;</td><td>0</td><td>1819</td><td>&quot;train&quot;</td><td>&quot;Allenopithecus_nigroviridis&quot;</td></tr><tr><td>&quot;k141_1012768&quot;</td><td>0</td><td>1225</td><td>&quot;train&quot;</td><td>&quot;Allenopithecus_nigroviridis&quot;</td></tr><tr><td>&quot;k141_1012988&quot;</td><td>0</td><td>1772</td><td>&quot;train&quot;</td><td>&quot;Allenopithecus_nigroviridis&quot;</td></tr><tr><td>&quot;k141_101883&quot;</td><td>0</td><td>2024</td><td>&quot;train&quot;</td><td>&quot;Allenopithecus_nigroviridis&quot;</td></tr></tbody></table></div>"
      ],
      "text/plain": [
       "shape: (5, 5)\n",
       "┌──────────────┬────────────┬──────────┬───────┬─────────────────────────────┐\n",
       "│ chrom        ┆ chromStart ┆ chromEnd ┆ name  ┆ species                     │\n",
       "│ ---          ┆ ---        ┆ ---      ┆ ---   ┆ ---                         │\n",
       "│ str          ┆ i64        ┆ i64      ┆ str   ┆ str                         │\n",
       "╞══════════════╪════════════╪══════════╪═══════╪═════════════════════════════╡\n",
       "│ k141_100819  ┆ 0          ┆ 28984    ┆ valid ┆ Allenopithecus_nigroviridis │\n",
       "│ k141_1012738 ┆ 0          ┆ 1819     ┆ train ┆ Allenopithecus_nigroviridis │\n",
       "│ k141_1012768 ┆ 0          ┆ 1225     ┆ train ┆ Allenopithecus_nigroviridis │\n",
       "│ k141_1012988 ┆ 0          ┆ 1772     ┆ train ┆ Allenopithecus_nigroviridis │\n",
       "│ k141_101883  ┆ 0          ┆ 2024     ┆ train ┆ Allenopithecus_nigroviridis │\n",
       "└──────────────┴────────────┴──────────┴───────┴─────────────────────────────┘"
      ]
     },
     "execution_count": 18,
     "metadata": {},
     "output_type": "execute_result"
    }
   ],
   "source": [
    "dup = by_c_s.filter(pl.col('chrom').is_duplicated())\n",
    "dup.head()"
   ]
  },
  {
   "cell_type": "code",
   "execution_count": 21,
   "metadata": {},
   "outputs": [],
   "source": [
    "lengths = (all_beds['chromEnd'] - all_beds['chromStart']).to_numpy()"
   ]
  },
  {
   "cell_type": "code",
   "execution_count": 24,
   "metadata": {},
   "outputs": [
    {
     "data": {
      "text/plain": [
       "65536"
      ]
     },
     "execution_count": 24,
     "metadata": {},
     "output_type": "execute_result"
    }
   ],
   "source": [
    "lengths.max()"
   ]
  },
  {
   "cell_type": "code",
   "execution_count": 23,
   "metadata": {},
   "outputs": [
    {
     "data": {
      "text/plain": [
       "<Axes: ylabel='Count'>"
      ]
     },
     "execution_count": 23,
     "metadata": {},
     "output_type": "execute_result"
    },
    {
     "data": {
      "image/png": "[encoded data removed]",
      "text/plain": [
       "<Figure size 640x480 with 1 Axes>"
      ]
     },
     "metadata": {},
     "output_type": "display_data"
    }
   ],
   "source": [
    "sns.histplot(lengths, log_scale=True)"
   ]
  },
  {
   "cell_type": "code",
   "execution_count": 25,
   "metadata": {},
   "outputs": [],
   "source": [
    "dup = dup.sort('chrom')"
   ]
  },
  {
   "cell_type": "code",
   "execution_count": 27,
   "metadata": {},
   "outputs": [
    {
     "data": {
      "text/html": [
       "<div><style>\n",
       ".dataframe > thead > tr,\n",
       ".dataframe > tbody > tr {\n",
       "  text-align: right;\n",
       "  white-space: pre-wrap;\n",
       "}\n",
       "</style>\n",
       "<small>shape: (5, 5)</small><table border=\"1\" class=\"dataframe\"><thead><tr><th>chrom</th><th>chromStart</th><th>chromEnd</th><th>name</th><th>species</th></tr><tr><td>str</td><td>i64</td><td>i64</td><td>str</td><td>str</td></tr></thead><tbody><tr><td>&quot;tarseq_998&quot;</td><td>0</td><td>65536</td><td>&quot;train&quot;</td><td>&quot;Ateles_geoffroyi_b&quot;</td></tr><tr><td>&quot;tarseq_998&quot;</td><td>0</td><td>10007</td><td>&quot;train&quot;</td><td>&quot;Hylobates_pileatus_a&quot;</td></tr><tr><td>&quot;tarseq_998&quot;</td><td>0</td><td>24212</td><td>&quot;train&quot;</td><td>&quot;Symphalangus_syndactylus&quot;</td></tr><tr><td>&quot;tarseq_999&quot;</td><td>0</td><td>28023</td><td>&quot;train&quot;</td><td>&quot;Symphalangus_syndactylus&quot;</td></tr><tr><td>&quot;tarseq_999&quot;</td><td>0</td><td>9892</td><td>&quot;train&quot;</td><td>&quot;Nomascus_siki_b&quot;</td></tr></tbody></table></div>"
      ],
      "text/plain": [
       "shape: (5, 5)\n",
       "┌────────────┬────────────┬──────────┬───────┬──────────────────────────┐\n",
       "│ chrom      ┆ chromStart ┆ chromEnd ┆ name  ┆ species                  │\n",
       "│ ---        ┆ ---        ┆ ---      ┆ ---   ┆ ---                      │\n",
       "│ str        ┆ i64        ┆ i64      ┆ str   ┆ str                      │\n",
       "╞════════════╪════════════╪══════════╪═══════╪══════════════════════════╡\n",
       "│ tarseq_998 ┆ 0          ┆ 65536    ┆ train ┆ Ateles_geoffroyi_b       │\n",
       "│ tarseq_998 ┆ 0          ┆ 10007    ┆ train ┆ Hylobates_pileatus_a     │\n",
       "│ tarseq_998 ┆ 0          ┆ 24212    ┆ train ┆ Symphalangus_syndactylus │\n",
       "│ tarseq_999 ┆ 0          ┆ 28023    ┆ train ┆ Symphalangus_syndactylus │\n",
       "│ tarseq_999 ┆ 0          ┆ 9892     ┆ train ┆ Nomascus_siki_b          │\n",
       "└────────────┴────────────┴──────────┴───────┴──────────────────────────┘"
      ]
     },
     "execution_count": 27,
     "metadata": {},
     "output_type": "execute_result"
    }
   ],
   "source": [
    "dup.tail()"
   ]
  },
  {
   "cell_type": "code",
   "execution_count": 29,
   "metadata": {},
   "outputs": [
    {
     "data": {
      "text/plain": [
       "7732677"
      ]
     },
     "execution_count": 29,
     "metadata": {},
     "output_type": "execute_result"
    }
   ],
   "source": [
    "kb65 = all_beds.filter((pl.col('chromEnd') - pl.col('chromStart')) == 2**16)\n",
    "kb65.height"
   ]
  },
  {
   "cell_type": "code",
   "execution_count": 30,
   "metadata": {},
   "outputs": [],
   "source": [
    "uniq_65kb_c = kb65['chrom'].unique()"
   ]
  },
  {
   "cell_type": "code",
   "execution_count": 31,
   "metadata": {},
   "outputs": [
    {
     "data": {
      "text/plain": [
       "835197"
      ]
     },
     "execution_count": 31,
     "metadata": {},
     "output_type": "execute_result"
    }
   ],
   "source": [
    "common = set(dup['chrom'].unique()) & set(uniq_65kb_c)\n",
    "len(common)"
   ]
  },
  {
   "cell_type": "code",
   "execution_count": 39,
   "metadata": {},
   "outputs": [
    {
     "data": {
      "text/html": [
       "<div><style>\n",
       ".dataframe > thead > tr,\n",
       ".dataframe > tbody > tr {\n",
       "  text-align: right;\n",
       "  white-space: pre-wrap;\n",
       "}\n",
       "</style>\n",
       "<small>shape: (5, 5)</small><table border=\"1\" class=\"dataframe\"><thead><tr><th>chrom</th><th>chromStart</th><th>chromEnd</th><th>name</th><th>species</th></tr><tr><td>str</td><td>i64</td><td>i64</td><td>str</td><td>str</td></tr></thead><tbody><tr><td>&quot;LLWD01000002.1&quot;</td><td>0</td><td>65536</td><td>&quot;train&quot;</td><td>&quot;Acinonyx_jubatus&quot;</td></tr><tr><td>&quot;LLWD01000002.1&quot;</td><td>65536</td><td>131072</td><td>&quot;train&quot;</td><td>&quot;Acinonyx_jubatus&quot;</td></tr><tr><td>&quot;LLWD01000002.1&quot;</td><td>131072</td><td>196608</td><td>&quot;train&quot;</td><td>&quot;Acinonyx_jubatus&quot;</td></tr><tr><td>&quot;LLWD01000002.1&quot;</td><td>196608</td><td>262144</td><td>&quot;train&quot;</td><td>&quot;Acinonyx_jubatus&quot;</td></tr><tr><td>&quot;LLWD01000002.1&quot;</td><td>262144</td><td>327680</td><td>&quot;train&quot;</td><td>&quot;Acinonyx_jubatus&quot;</td></tr></tbody></table></div>"
      ],
      "text/plain": [
       "shape: (5, 5)\n",
       "┌────────────────┬────────────┬──────────┬───────┬──────────────────┐\n",
       "│ chrom          ┆ chromStart ┆ chromEnd ┆ name  ┆ species          │\n",
       "│ ---            ┆ ---        ┆ ---      ┆ ---   ┆ ---              │\n",
       "│ str            ┆ i64        ┆ i64      ┆ str   ┆ str              │\n",
       "╞════════════════╪════════════╪══════════╪═══════╪══════════════════╡\n",
       "│ LLWD01000002.1 ┆ 0          ┆ 65536    ┆ train ┆ Acinonyx_jubatus │\n",
       "│ LLWD01000002.1 ┆ 65536      ┆ 131072   ┆ train ┆ Acinonyx_jubatus │\n",
       "│ LLWD01000002.1 ┆ 131072     ┆ 196608   ┆ train ┆ Acinonyx_jubatus │\n",
       "│ LLWD01000002.1 ┆ 196608     ┆ 262144   ┆ train ┆ Acinonyx_jubatus │\n",
       "│ LLWD01000002.1 ┆ 262144     ┆ 327680   ┆ train ┆ Acinonyx_jubatus │\n",
       "└────────────────┴────────────┴──────────┴───────┴──────────────────┘"
      ]
     },
     "execution_count": 39,
     "metadata": {},
     "output_type": "execute_result"
    }
   ],
   "source": [
    "kb65.head()"
   ]
  },
  {
   "cell_type": "code",
   "execution_count": 40,
   "metadata": {},
   "outputs": [],
   "source": [
    "kb65.rename({'name': 'split'}).write_ipc('/iblm/netapp/data4/shared_dir/hyena_dna_collab/training_datasets/cactus_dataset_exactly_2to16_all_bed.arrow')"
   ]
  },
  {
   "cell_type": "code",
   "execution_count": 3,
   "metadata": {},
   "outputs": [
    {
     "data": {
      "text/html": [
       "<div><style>\n",
       ".dataframe > thead > tr,\n",
       ".dataframe > tbody > tr {\n",
       "  text-align: right;\n",
       "  white-space: pre-wrap;\n",
       "}\n",
       "</style>\n",
       "<small>shape: (5, 5)</small><table border=\"1\" class=\"dataframe\"><thead><tr><th>chrom</th><th>chromStart</th><th>chromEnd</th><th>split</th><th>species</th></tr><tr><td>str</td><td>i64</td><td>i64</td><td>str</td><td>str</td></tr></thead><tbody><tr><td>&quot;LLWD01000002.1&quot;</td><td>0</td><td>65536</td><td>&quot;train&quot;</td><td>&quot;Acinonyx_jubatus&quot;</td></tr><tr><td>&quot;LLWD01000002.1&quot;</td><td>65536</td><td>131072</td><td>&quot;train&quot;</td><td>&quot;Acinonyx_jubatus&quot;</td></tr><tr><td>&quot;LLWD01000002.1&quot;</td><td>131072</td><td>196608</td><td>&quot;train&quot;</td><td>&quot;Acinonyx_jubatus&quot;</td></tr><tr><td>&quot;LLWD01000002.1&quot;</td><td>196608</td><td>262144</td><td>&quot;train&quot;</td><td>&quot;Acinonyx_jubatus&quot;</td></tr><tr><td>&quot;LLWD01000002.1&quot;</td><td>262144</td><td>327680</td><td>&quot;train&quot;</td><td>&quot;Acinonyx_jubatus&quot;</td></tr></tbody></table></div>"
      ],
      "text/plain": [
       "shape: (5, 5)\n",
       "┌────────────────┬────────────┬──────────┬───────┬──────────────────┐\n",
       "│ chrom          ┆ chromStart ┆ chromEnd ┆ split ┆ species          │\n",
       "│ ---            ┆ ---        ┆ ---      ┆ ---   ┆ ---              │\n",
       "│ str            ┆ i64        ┆ i64      ┆ str   ┆ str              │\n",
       "╞════════════════╪════════════╪══════════╪═══════╪══════════════════╡\n",
       "│ LLWD01000002.1 ┆ 0          ┆ 65536    ┆ train ┆ Acinonyx_jubatus │\n",
       "│ LLWD01000002.1 ┆ 65536      ┆ 131072   ┆ train ┆ Acinonyx_jubatus │\n",
       "│ LLWD01000002.1 ┆ 131072     ┆ 196608   ┆ train ┆ Acinonyx_jubatus │\n",
       "│ LLWD01000002.1 ┆ 196608     ┆ 262144   ┆ train ┆ Acinonyx_jubatus │\n",
       "│ LLWD01000002.1 ┆ 262144     ┆ 327680   ┆ train ┆ Acinonyx_jubatus │\n",
       "└────────────────┴────────────┴──────────┴───────┴──────────────────┘"
      ]
     },
     "execution_count": 3,
     "metadata": {},
     "output_type": "execute_result"
    }
   ],
   "source": [
    "kb65 = pl.read_ipc('/iblm/netapp/data4/shared_dir/hyena_dna_collab/training_datasets/cactus_dataset_exactly_2to16_all_bed.arrow')\n",
    "kb65.head()"
   ]
  },
  {
   "cell_type": "code",
   "execution_count": 5,
   "metadata": {},
   "outputs": [
    {
     "data": {
      "text/html": [
       "<div><style>\n",
       ".dataframe > thead > tr,\n",
       ".dataframe > tbody > tr {\n",
       "  text-align: right;\n",
       "  white-space: pre-wrap;\n",
       "}\n",
       "</style>\n",
       "<small>shape: (4, 5)</small><table border=\"1\" class=\"dataframe\"><thead><tr><th>chrom</th><th>chromStart</th><th>chromEnd</th><th>split</th><th>species</th></tr><tr><td>str</td><td>i64</td><td>i64</td><td>str</td><td>str</td></tr></thead><tbody><tr><td>&quot;KB469739.1&quot;</td><td>65536</td><td>131072</td><td>&quot;train&quot;</td><td>&quot;Mus_musculus&quot;</td></tr><tr><td>&quot;KB469739.1&quot;</td><td>131072</td><td>196608</td><td>&quot;train&quot;</td><td>&quot;Mus_musculus&quot;</td></tr><tr><td>&quot;KB469739.1&quot;</td><td>196608</td><td>262144</td><td>&quot;valid&quot;</td><td>&quot;Mus_musculus&quot;</td></tr><tr><td>&quot;KB469739.1&quot;</td><td>262144</td><td>327680</td><td>&quot;valid&quot;</td><td>&quot;Mus_musculus&quot;</td></tr></tbody></table></div>"
      ],
      "text/plain": [
       "shape: (4, 5)\n",
       "┌────────────┬────────────┬──────────┬───────┬──────────────┐\n",
       "│ chrom      ┆ chromStart ┆ chromEnd ┆ split ┆ species      │\n",
       "│ ---        ┆ ---        ┆ ---      ┆ ---   ┆ ---          │\n",
       "│ str        ┆ i64        ┆ i64      ┆ str   ┆ str          │\n",
       "╞════════════╪════════════╪══════════╪═══════╪══════════════╡\n",
       "│ KB469739.1 ┆ 65536      ┆ 131072   ┆ train ┆ Mus_musculus │\n",
       "│ KB469739.1 ┆ 131072     ┆ 196608   ┆ train ┆ Mus_musculus │\n",
       "│ KB469739.1 ┆ 196608     ┆ 262144   ┆ valid ┆ Mus_musculus │\n",
       "│ KB469739.1 ┆ 262144     ┆ 327680   ┆ valid ┆ Mus_musculus │\n",
       "└────────────┴────────────┴──────────┴───────┴──────────────┘"
      ]
     },
     "execution_count": 5,
     "metadata": {},
     "output_type": "execute_result"
    }
   ],
   "source": [
    "kb65.filter(pl.col('chrom') == 'KB469739.1')"
   ]
  }
 ],
 "metadata": {
  "kernelspec": {
   "display_name": "hyena",
   "language": "python",
   "name": "python3"
  },
  "language_info": {
   "codemirror_mode": {
    "name": "ipython",
    "version": 3
   },
   "file_extension": ".py",
   "mimetype": "text/x-python",
   "name": "python",
   "nbconvert_exporter": "python",
   "pygments_lexer": "ipython3",
   "version": "3.10.13"
  }
 },
 "nbformat": 4,
 "nbformat_minor": 2
}
