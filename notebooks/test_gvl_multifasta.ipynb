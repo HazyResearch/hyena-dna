{
 "cells": [
  {
   "cell_type": "code",
   "execution_count": 1,
   "metadata": {},
   "outputs": [],
   "source": [
    "from tqdm.auto import tqdm\n",
    "import sys\n",
    "sys.path.insert(0, '/iblm/netapp/home/dlaub/projects/hyena-dna/')\n",
    "\n",
    "\n",
    "from src.dataloaders.gvl import MultiFasta  # noqa: E402"
   ]
  },
  {
   "cell_type": "code",
   "execution_count": null,
   "metadata": {},
   "outputs": [
    {
     "data": {
      "application/vnd.jupyter.widget-view+json": {
       "model_id": "e7bdd4308c70449dbd76f1f4c9c56eaf",
       "version_major": 2,
       "version_minor": 0
      },
      "text/plain": [
       "Initializing fastas:   0%|          | 0/10 [00:00<?, ?it/s]"
      ]
     },
     "metadata": {},
     "output_type": "display_data"
    }
   ],
   "source": [
    "dm = MultiFasta(\n",
    "    '/iblm/netapp/home/dlaub/projects/hyena-dna/data/gvl_multifasta/32000',\n",
    "    max_length=32768,\n",
    "    batch_size=16,\n",
    "    max_memory_gb=16,\n",
    ")"
   ]
  },
  {
   "cell_type": "code",
   "execution_count": 9,
   "metadata": {},
   "outputs": [
    {
     "data": {
      "application/vnd.jupyter.widget-view+json": {
       "model_id": "83c273acfc734396ac36b8aa87b87841",
       "version_major": 2,
       "version_minor": 0
      },
      "text/plain": [
       "0it [00:00, ?it/s]"
      ]
     },
     "metadata": {},
     "output_type": "display_data"
    }
   ],
   "source": [
    "for batch in tqdm(dm.train_dataloader()):\n",
    "    pass"
   ]
  }
 ],
 "metadata": {
  "kernelspec": {
   "display_name": "Hyena",
   "language": "python",
   "name": "hyena"
  },
  "language_info": {
   "codemirror_mode": {
    "name": "ipython",
    "version": 3
   },
   "file_extension": ".py",
   "mimetype": "text/x-python",
   "name": "python",
   "nbconvert_exporter": "python",
   "pygments_lexer": "ipython3",
   "version": "3.10.8"
  }
 },
 "nbformat": 4,
 "nbformat_minor": 2
}
